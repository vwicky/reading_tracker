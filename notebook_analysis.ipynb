{
 "cells": [
  {
   "cell_type": "markdown",
   "id": "e8b85deb",
   "metadata": {},
   "source": [
    "# data analysis"
   ]
  },
  {
   "cell_type": "code",
   "execution_count": 3,
   "id": "0410a6d1",
   "metadata": {},
   "outputs": [],
   "source": [
    "data_path = \"data/reading_list.csv\""
   ]
  },
  {
   "cell_type": "code",
   "execution_count": 1,
   "id": "c91a2d57",
   "metadata": {},
   "outputs": [],
   "source": [
    "import pandas as pd"
   ]
  },
  {
   "cell_type": "code",
   "execution_count": 10,
   "id": "88262de7",
   "metadata": {},
   "outputs": [
    {
     "data": {
      "text/html": [
       "<div>\n",
       "<style scoped>\n",
       "    .dataframe tbody tr th:only-of-type {\n",
       "        vertical-align: middle;\n",
       "    }\n",
       "\n",
       "    .dataframe tbody tr th {\n",
       "        vertical-align: top;\n",
       "    }\n",
       "\n",
       "    .dataframe thead th {\n",
       "        text-align: right;\n",
       "    }\n",
       "</style>\n",
       "<table border=\"1\" class=\"dataframe\">\n",
       "  <thead>\n",
       "    <tr style=\"text-align: right;\">\n",
       "      <th></th>\n",
       "      <th>title</th>\n",
       "      <th>author</th>\n",
       "      <th>added_at</th>\n",
       "    </tr>\n",
       "  </thead>\n",
       "  <tbody>\n",
       "    <tr>\n",
       "      <th>0</th>\n",
       "      <td>Norwegian Wood</td>\n",
       "      <td>Murakami</td>\n",
       "      <td>2025-05-08</td>\n",
       "    </tr>\n",
       "    <tr>\n",
       "      <th>1</th>\n",
       "      <td>What I Talk About When I Talk About Running</td>\n",
       "      <td>Murakami</td>\n",
       "      <td>2025-05-08</td>\n",
       "    </tr>\n",
       "    <tr>\n",
       "      <th>2</th>\n",
       "      <td>After Dark</td>\n",
       "      <td>Murakami</td>\n",
       "      <td>2025-05-08</td>\n",
       "    </tr>\n",
       "    <tr>\n",
       "      <th>3</th>\n",
       "      <td>The Buried Giant</td>\n",
       "      <td>Kazuo Ishiguro</td>\n",
       "      <td>2025-05-08</td>\n",
       "    </tr>\n",
       "    <tr>\n",
       "      <th>4</th>\n",
       "      <td>If Cats Disappeared from the World</td>\n",
       "      <td>Genki Kawamura</td>\n",
       "      <td>2025-05-08</td>\n",
       "    </tr>\n",
       "    <tr>\n",
       "      <th>5</th>\n",
       "      <td>Novelist as a Vocation</td>\n",
       "      <td>Murakami</td>\n",
       "      <td>2025-05-08</td>\n",
       "    </tr>\n",
       "    <tr>\n",
       "      <th>6</th>\n",
       "      <td>Don Juan</td>\n",
       "      <td>Byron</td>\n",
       "      <td>2025-05-08</td>\n",
       "    </tr>\n",
       "    <tr>\n",
       "      <th>7</th>\n",
       "      <td>Лісова пісня</td>\n",
       "      <td>Леся Українка</td>\n",
       "      <td>2025-05-08</td>\n",
       "    </tr>\n",
       "    <tr>\n",
       "      <th>8</th>\n",
       "      <td>The Critic as Artist</td>\n",
       "      <td>Oscar Wilde</td>\n",
       "      <td>2025-05-08</td>\n",
       "    </tr>\n",
       "    <tr>\n",
       "      <th>9</th>\n",
       "      <td>Майстер Корабля</td>\n",
       "      <td>Юрій Яновський</td>\n",
       "      <td>2025-05-08</td>\n",
       "    </tr>\n",
       "    <tr>\n",
       "      <th>10</th>\n",
       "      <td>Невеличка Драма</td>\n",
       "      <td>В. Підмогильний</td>\n",
       "      <td>2025-05-08</td>\n",
       "    </tr>\n",
       "  </tbody>\n",
       "</table>\n",
       "</div>"
      ],
      "text/plain": [
       "                                          title           author    added_at\n",
       "0                                Norwegian Wood         Murakami  2025-05-08\n",
       "1   What I Talk About When I Talk About Running         Murakami  2025-05-08\n",
       "2                                    After Dark         Murakami  2025-05-08\n",
       "3                              The Buried Giant   Kazuo Ishiguro  2025-05-08\n",
       "4            If Cats Disappeared from the World   Genki Kawamura  2025-05-08\n",
       "5                        Novelist as a Vocation         Murakami  2025-05-08\n",
       "6                                      Don Juan            Byron  2025-05-08\n",
       "7                                  Лісова пісня    Леся Українка  2025-05-08\n",
       "8                          The Critic as Artist      Oscar Wilde  2025-05-08\n",
       "9                               Майстер Корабля   Юрій Яновський  2025-05-08\n",
       "10                              Невеличка Драма  В. Підмогильний  2025-05-08"
      ]
     },
     "execution_count": 10,
     "metadata": {},
     "output_type": "execute_result"
    }
   ],
   "source": [
    "ds = pd.read_csv(data_path).drop([\"Unnamed: 0\"], axis=1)\n",
    "ds"
   ]
  },
  {
   "cell_type": "code",
   "execution_count": 12,
   "id": "2e6c17bb",
   "metadata": {},
   "outputs": [
    {
     "data": {
      "text/plain": [
       "(11, 3)"
      ]
     },
     "execution_count": 12,
     "metadata": {},
     "output_type": "execute_result"
    }
   ],
   "source": [
    "ds.shape"
   ]
  },
  {
   "cell_type": "code",
   "execution_count": 18,
   "id": "64510f58",
   "metadata": {},
   "outputs": [
    {
     "data": {
      "text/plain": [
       "0                                 Norwegian Wood\n",
       "1    What I Talk About When I Talk About Running\n",
       "2                                     After Dark\n",
       "5                         Novelist as a Vocation\n",
       "Name: title, dtype: object"
      ]
     },
     "execution_count": 18,
     "metadata": {},
     "output_type": "execute_result"
    }
   ],
   "source": [
    "ds[ds[\"author\"] == \"Murakami\"][\"title\"]"
   ]
  }
 ],
 "metadata": {
  "kernelspec": {
   "display_name": "Python 3",
   "language": "python",
   "name": "python3"
  },
  "language_info": {
   "codemirror_mode": {
    "name": "ipython",
    "version": 3
   },
   "file_extension": ".py",
   "mimetype": "text/x-python",
   "name": "python",
   "nbconvert_exporter": "python",
   "pygments_lexer": "ipython3",
   "version": "3.11.3"
  }
 },
 "nbformat": 4,
 "nbformat_minor": 5
}
