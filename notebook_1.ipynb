{
 "cells": [
  {
   "cell_type": "markdown",
   "id": "23e7f3f2",
   "metadata": {},
   "source": [
    "## test file"
   ]
  },
  {
   "cell_type": "code",
   "execution_count": 1,
   "id": "7a0d75f3",
   "metadata": {},
   "outputs": [],
   "source": [
    "data_path = \"data/reading_list.csv\""
   ]
  },
  {
   "cell_type": "code",
   "execution_count": 62,
   "id": "7f0a315b",
   "metadata": {},
   "outputs": [],
   "source": [
    "import pandas as pd\n",
    "from datetime import date"
   ]
  },
  {
   "cell_type": "code",
   "execution_count": 66,
   "id": "f2569f87",
   "metadata": {},
   "outputs": [],
   "source": [
    "class Book:\n",
    "    def __init__(self, title: str, author: str):\n",
    "        self.title = title\n",
    "        self.author = author\n",
    "        self.created_at = date.today()\n",
    "        \n",
    "    def __dict__(self):\n",
    "        return {\n",
    "            \"title\" : self.title,\n",
    "            \"author\": self.author, \n",
    "            \"added_at\": date.today()\n",
    "        }\n",
    "        \n",
    "    def __repr__(self):\n",
    "        return self.__str__()\n",
    "    \n",
    "    def __str__(self):\n",
    "        return f'\"{self.title}\" by {self.author}. Created at {self.created_at}'"
   ]
  },
  {
   "cell_type": "code",
   "execution_count": 67,
   "id": "bddeb64e",
   "metadata": {},
   "outputs": [
    {
     "data": {
      "text/plain": [
       "\"Coriolanus\" by W. Shakespeare. Created at 2025-05-08"
      ]
     },
     "execution_count": 67,
     "metadata": {},
     "output_type": "execute_result"
    }
   ],
   "source": [
    "book_1 = Book(author=\"W. Shakespeare\", title=\"Coriolanus\")\n",
    "book_1"
   ]
  },
  {
   "cell_type": "code",
   "execution_count": 68,
   "id": "ab07a04b",
   "metadata": {},
   "outputs": [
    {
     "data": {
      "text/plain": [
       "[('Norwegian Wood', 'Murakami'),\n",
       " ('What I Talk About When I Talk About Running', 'Murakami'),\n",
       " ('After Dark', 'Murakami'),\n",
       " ('The Buried Giant', 'Kazuo Ishiguro'),\n",
       " ('If Cats Disappeared from the World', 'Genki Kawamura'),\n",
       " ('Novelist as a Vocation', 'Murakami'),\n",
       " ('Don Juan', 'Byron'),\n",
       " ('Лісова пісня', 'Леся Українка'),\n",
       " ('The Critic as Artist', 'Oscar Wilde'),\n",
       " ('Майстер Корабля', 'Юрій Яновський'),\n",
       " ('Невеличка Драма', 'В. Підмогильний')]"
      ]
     },
     "execution_count": 68,
     "metadata": {},
     "output_type": "execute_result"
    }
   ],
   "source": [
    "books = [\n",
    "    (\"Norwegian Wood\", \"Murakami\"),\n",
    "    (\"What I Talk About When I Talk About Running\", \"Murakami\"),\n",
    "    (\"After Dark\", \"Murakami\"),\n",
    "    (\"The Buried Giant\", \"Kazuo Ishiguro\"),\n",
    "    (\"If Cats Disappeared from the World\", \"Genki Kawamura\"),\n",
    "    (\"Novelist as a Vocation\", \"Murakami\"),\n",
    "    (\"Don Juan\", \"Byron\"),\n",
    "    (\"Лісова пісня\", \"Леся Українка\"),\n",
    "    (\"The Critic as Artist\", \"Oscar Wilde\"),\n",
    "    (\"Майстер Корабля\", \"Юрій Яновський\"),\n",
    "    (\"Невеличка Драма\", \"В. Підмогильний\"),\n",
    "]\n",
    "books"
   ]
  },
  {
   "cell_type": "code",
   "execution_count": 69,
   "id": "c06fdc25",
   "metadata": {},
   "outputs": [
    {
     "data": {
      "text/plain": [
       "[\"Norwegian Wood\" by Murakami. Created at 2025-05-08,\n",
       " \"What I Talk About When I Talk About Running\" by Murakami. Created at 2025-05-08,\n",
       " \"After Dark\" by Murakami. Created at 2025-05-08,\n",
       " \"The Buried Giant\" by Kazuo Ishiguro. Created at 2025-05-08,\n",
       " \"If Cats Disappeared from the World\" by Genki Kawamura. Created at 2025-05-08,\n",
       " \"Novelist as a Vocation\" by Murakami. Created at 2025-05-08,\n",
       " \"Don Juan\" by Byron. Created at 2025-05-08,\n",
       " \"Лісова пісня\" by Леся Українка. Created at 2025-05-08,\n",
       " \"The Critic as Artist\" by Oscar Wilde. Created at 2025-05-08,\n",
       " \"Майстер Корабля\" by Юрій Яновський. Created at 2025-05-08,\n",
       " \"Невеличка Драма\" by В. Підмогильний. Created at 2025-05-08]"
      ]
     },
     "execution_count": 69,
     "metadata": {},
     "output_type": "execute_result"
    }
   ],
   "source": [
    "books = [Book(title=book[0], author=book[1]) for book in books]\n",
    "books"
   ]
  },
  {
   "cell_type": "code",
   "execution_count": 70,
   "id": "ce23cc4d",
   "metadata": {},
   "outputs": [
    {
     "data": {
      "text/html": [
       "<div>\n",
       "<style scoped>\n",
       "    .dataframe tbody tr th:only-of-type {\n",
       "        vertical-align: middle;\n",
       "    }\n",
       "\n",
       "    .dataframe tbody tr th {\n",
       "        vertical-align: top;\n",
       "    }\n",
       "\n",
       "    .dataframe thead th {\n",
       "        text-align: right;\n",
       "    }\n",
       "</style>\n",
       "<table border=\"1\" class=\"dataframe\">\n",
       "  <thead>\n",
       "    <tr style=\"text-align: right;\">\n",
       "      <th></th>\n",
       "      <th>title</th>\n",
       "      <th>author</th>\n",
       "      <th>added_at</th>\n",
       "    </tr>\n",
       "  </thead>\n",
       "  <tbody>\n",
       "    <tr>\n",
       "      <th>0</th>\n",
       "      <td>Norwegian Wood</td>\n",
       "      <td>Murakami</td>\n",
       "      <td>2025-05-08</td>\n",
       "    </tr>\n",
       "    <tr>\n",
       "      <th>1</th>\n",
       "      <td>What I Talk About When I Talk About Running</td>\n",
       "      <td>Murakami</td>\n",
       "      <td>2025-05-08</td>\n",
       "    </tr>\n",
       "    <tr>\n",
       "      <th>2</th>\n",
       "      <td>After Dark</td>\n",
       "      <td>Murakami</td>\n",
       "      <td>2025-05-08</td>\n",
       "    </tr>\n",
       "    <tr>\n",
       "      <th>3</th>\n",
       "      <td>The Buried Giant</td>\n",
       "      <td>Kazuo Ishiguro</td>\n",
       "      <td>2025-05-08</td>\n",
       "    </tr>\n",
       "    <tr>\n",
       "      <th>4</th>\n",
       "      <td>If Cats Disappeared from the World</td>\n",
       "      <td>Genki Kawamura</td>\n",
       "      <td>2025-05-08</td>\n",
       "    </tr>\n",
       "    <tr>\n",
       "      <th>5</th>\n",
       "      <td>Novelist as a Vocation</td>\n",
       "      <td>Murakami</td>\n",
       "      <td>2025-05-08</td>\n",
       "    </tr>\n",
       "    <tr>\n",
       "      <th>6</th>\n",
       "      <td>Don Juan</td>\n",
       "      <td>Byron</td>\n",
       "      <td>2025-05-08</td>\n",
       "    </tr>\n",
       "    <tr>\n",
       "      <th>7</th>\n",
       "      <td>Лісова пісня</td>\n",
       "      <td>Леся Українка</td>\n",
       "      <td>2025-05-08</td>\n",
       "    </tr>\n",
       "    <tr>\n",
       "      <th>8</th>\n",
       "      <td>The Critic as Artist</td>\n",
       "      <td>Oscar Wilde</td>\n",
       "      <td>2025-05-08</td>\n",
       "    </tr>\n",
       "    <tr>\n",
       "      <th>9</th>\n",
       "      <td>Майстер Корабля</td>\n",
       "      <td>Юрій Яновський</td>\n",
       "      <td>2025-05-08</td>\n",
       "    </tr>\n",
       "    <tr>\n",
       "      <th>10</th>\n",
       "      <td>Невеличка Драма</td>\n",
       "      <td>В. Підмогильний</td>\n",
       "      <td>2025-05-08</td>\n",
       "    </tr>\n",
       "  </tbody>\n",
       "</table>\n",
       "</div>"
      ],
      "text/plain": [
       "                                          title           author    added_at\n",
       "0                                Norwegian Wood         Murakami  2025-05-08\n",
       "1   What I Talk About When I Talk About Running         Murakami  2025-05-08\n",
       "2                                    After Dark         Murakami  2025-05-08\n",
       "3                              The Buried Giant   Kazuo Ishiguro  2025-05-08\n",
       "4            If Cats Disappeared from the World   Genki Kawamura  2025-05-08\n",
       "5                        Novelist as a Vocation         Murakami  2025-05-08\n",
       "6                                      Don Juan            Byron  2025-05-08\n",
       "7                                  Лісова пісня    Леся Українка  2025-05-08\n",
       "8                          The Critic as Artist      Oscar Wilde  2025-05-08\n",
       "9                               Майстер Корабля   Юрій Яновський  2025-05-08\n",
       "10                              Невеличка Драма  В. Підмогильний  2025-05-08"
      ]
     },
     "execution_count": 70,
     "metadata": {},
     "output_type": "execute_result"
    }
   ],
   "source": [
    "ds = pd.DataFrame(book.__dict__() for book in books)\n",
    "ds"
   ]
  },
  {
   "cell_type": "code",
   "execution_count": 71,
   "id": "cf38eab0",
   "metadata": {},
   "outputs": [],
   "source": [
    "ds.to_csv(data_path)"
   ]
  }
 ],
 "metadata": {
  "kernelspec": {
   "display_name": "Python 3",
   "language": "python",
   "name": "python3"
  },
  "language_info": {
   "codemirror_mode": {
    "name": "ipython",
    "version": 3
   },
   "file_extension": ".py",
   "mimetype": "text/x-python",
   "name": "python",
   "nbconvert_exporter": "python",
   "pygments_lexer": "ipython3",
   "version": "3.11.3"
  }
 },
 "nbformat": 4,
 "nbformat_minor": 5
}
